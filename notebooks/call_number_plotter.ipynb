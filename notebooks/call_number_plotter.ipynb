{
 "cells": [
  {
   "cell_type": "code",
   "execution_count": 1,
   "id": "ad027d4a",
   "metadata": {},
   "outputs": [],
   "source": [
    "from pathlib import Path\n",
    "\n",
    "import pandas as pd\n",
    "from pandas.errors import EmptyDataError \n",
    "\n",
    "import matplotlib.pyplot as plt\n",
    "import numpy as np\n",
    "\n",
    "from datetime import datetime"
   ]
  },
  {
   "cell_type": "code",
   "execution_count": 2,
   "id": "93a72428",
   "metadata": {},
   "outputs": [],
   "source": [
    "# Given parameters:\n",
    "# 1) detection_dir is the recover-DATE-UNIT_NUM-detect folder\n",
    "# 2) recording_name is the name of our recording: DATE_TIME.WAV\n",
    "# 4) det_type can either be 'lf' or 'hf'\n",
    "\n",
    "# Output:\n",
    "# The table of detections following the format of RavenPro\n",
    "\n",
    "def read_detection(detection_dir, recording_name, det_type):\n",
    "    \n",
    "    file_name = f\"{det_type}_{recording_name}.txt\"\n",
    "    file_path = f\"{detection_dir}/{file_name}\"\n",
    "    \n",
    "    if (Path(file_path).is_file()):\n",
    "        try:\n",
    "            df_detection = pd.read_csv(file_path, sep='\\t')\n",
    "        except EmptyDataError:\n",
    "            print(f\"{file_path} is empty\")\n",
    "            \n",
    "    return df_detection"
   ]
  },
  {
   "cell_type": "code",
   "execution_count": 3,
   "id": "7923be15",
   "metadata": {
    "scrolled": false
   },
   "outputs": [],
   "source": [
    "# These are constants that we absolutely need to know before running any scripts\n",
    "\n",
    "# Constant DATE is the date of our recovered data that we are extracting detections from\n",
    "DATE = \"20220728\"\n",
    "# Constant SD_CARD_NUM is the SD CARD # that had been deployed for that session\n",
    "SD_CARD_NUM = \"008\"\n",
    "# Constant duration of audio file that we configured into Audiomoth\n",
    "AUDIO_DUR = pd.DateOffset(minutes=29, seconds=55)"
   ]
  },
  {
   "cell_type": "code",
   "execution_count": 4,
   "id": "9e14f000",
   "metadata": {},
   "outputs": [],
   "source": [
    "# This method takes in paramaters:\n",
    "# 1) recovery_folder: Folder name of folder containing detections following format: recover-DATE-SD_CARD#-detect\n",
    "# 2) AUDIO_DUR: The AudioMoth's configuration for the length of each recording.\n",
    "\n",
    "# This method returns:\n",
    "# - A DataFrame object that has columns:\n",
    "#   - File Names, Date, Start Time, End Time, # of LF detections, # of HF detections\n",
    "#   - File Names are strings and # of LF/HF detections are integers.\n",
    "#   - Times are in UTC format and Dates are datetime.datetime objects.\n",
    "\n",
    "def generate_df(DATE, SD_CARD_NUM, AUDIO_DUR):\n",
    "    \n",
    "    # Create recovery folder variable using constants\n",
    "    recover_folder = f\"recover-{DATE}-{SD_CARD_NUM}-detect\"\n",
    "\n",
    "    # detection_dir is the recover-DATE-UNIT_NUM-detect folder where our detections are.\n",
    "    detection_dir = f\"detections/{recover_folder}\"\n",
    "\n",
    "    # Construct path object linked to the directory of files for datetime-parsing\n",
    "    file_dir = Path(detection_dir)\n",
    "    # Extract only the hf-detection files because the datetime information is repeated.\n",
    "    sorted_files = sorted(file_dir.glob('hf_*.txt'))\n",
    "\n",
    "    # We fill the first 4 columns of our dataframe using datetime's strptime and strftime\n",
    "    file_names = []\n",
    "    dates = []\n",
    "    s_times = []\n",
    "    e_times = []\n",
    "    # We fill out the next 2 columns of data with the number of LF and HF detections\n",
    "    num_lf_detections = []\n",
    "    num_hf_detections = []\n",
    "    \n",
    "    file_names, dates, s_times, e_times, num_lf_detections, num_hf_detections = extract_df_info(sorted_files, file_names, dates, s_times, \n",
    "                                                    e_times, num_lf_detections, num_hf_detections, AUDIO_DUR)\n",
    "        \n",
    "    # Create DataFrame object with all the extracted information    \n",
    "    df = pd.DataFrame([file_names, dates, s_times, e_times, num_lf_detections, num_hf_detections], \n",
    "                index=[\"File Names\", \"Date\", \"Start Time (UTC)\",\n",
    "                       \"End Time (UTC)\", \"# of LF detections\", \"# of HF detections\"]).T\n",
    "    return df"
   ]
  },
  {
   "cell_type": "code",
   "execution_count": 5,
   "id": "f565e8d4",
   "metadata": {},
   "outputs": [],
   "source": [
    "# This method takes in parameters:\n",
    "# 1) sorted_files: A list of detection files sorted according to chronological time.\n",
    "# 2) Empty lists to store DataFrame column information\n",
    "# 3) AUDIO_DUR: The AudioMoth's configuration for the length of each recording\n",
    "\n",
    "# This method returns:\n",
    "# - Lists of column information\n",
    "\n",
    "def extract_df_info(sorted_files, file_names, dates, s_times, e_times, \n",
    "                        num_lf_detections, num_hf_detections, AUDIO_DUR):\n",
    "    \n",
    "    # Iterate through all file paths to extract and store table information for each file\n",
    "    for i, file in enumerate(sorted_files):\n",
    "        # Extract name of each file as it is\n",
    "        file_name = file.name\n",
    "        # Extracting the datetime object from the name of each file\n",
    "        file_info = datetime.strptime(file_name, \"hf_%Y%m%d_%H%M%S.WAV.txt\")\n",
    "\n",
    "        # Extract recording name, date, start time, and end time for each file\n",
    "        recording_name = file_info.strftime(\"%Y%m%d_%H%M%S.WAV\")\n",
    "        date = file_info.date()\n",
    "        s_time = file_info.time()\n",
    "        e_time = (file_info + AUDIO_DUR).time()\n",
    "\n",
    "        # Appending the above properties to be displayed as part of the dataframe\n",
    "        file_names.append(recording_name)\n",
    "        dates.append(date)\n",
    "        s_times.append(s_time)\n",
    "        e_times.append(e_time)\n",
    "\n",
    "        # Calling read_detection to return the table of selections as a dataframe\n",
    "        # The detections appear twice: in waveform view and spectrogram view, \n",
    "        # so we half the total number of detections\n",
    "        lf_file_detections = read_detection(detection_dir, recording_name, \"lf\")\n",
    "        num_lf_detections.append(lf_file_detections.shape[0]/2)\n",
    "        hf_file_detections = read_detection(detection_dir, recording_name, 'hf')\n",
    "        num_hf_detections.append(hf_file_detections.shape[0]/2)\n",
    "        \n",
    "    return file_names, dates, s_times, e_times, num_lf_detections, num_hf_detections"
   ]
  },
  {
   "cell_type": "code",
   "execution_count": 6,
   "id": "838d3832",
   "metadata": {},
   "outputs": [],
   "source": [
    "def plot_separate(DATE, SD_CARD_NUM, AUDIO_DUR, save=True):\n",
    "    \n",
    "    # Create recovery folder variable using constants\n",
    "    recover_folder = f\"recover-{DATE}-{SD_CARD_NUM}-detect\"\n",
    "    \n",
    "    # Generate DataFrame to be plotted as a bar graph of LF/HF detections vs. time\n",
    "    df = generate_df(DATE, SD_CARD_NUM, AUDIO_DUR)\n",
    "    \n",
    "    # To plot each day's activity separately, group by rows that have the same date\n",
    "    # We need a list of unique dates from our detection files\n",
    "    unique_dates = df[\"Date\"].unique()\n",
    "\n",
    "    for date in unique_dates:\n",
    "        day_df = df.loc[df['Date'] == date]\n",
    "        fig = day_df.plot.bar(x=\"Start Time (UTC)\", title=date, figsize=(16, 6), rot=45).get_figure()\n",
    "        \n",
    "        if save:\n",
    "            save_dir = Path(recover_folder)\n",
    "            save_dir.mkdir(parents=True, exist_ok=True)\n",
    "            save_path = Path(f\"{recover_folder}/{date}.png\")\n",
    "            fig.savefig(save_path, facecolor='w')"
   ]
  },
  {
   "cell_type": "code",
   "execution_count": 7,
   "id": "73783fdc",
   "metadata": {
    "scrolled": false
   },
   "outputs": [],
   "source": [
    "def plot_total(DATE, SD_CARD_NUM, AUDIO_DUR):\n",
    "    \n",
    "    # Generate DataFrame to be plotted as a bar graph of LF/HF detections vs. time\n",
    "    df = generate_df(DATE, SD_CARD_NUM, AUDIO_DUR)\n",
    "    \n",
    "    df.plot.bar(x=\"Start Time (UTC)\", title=\"Total Deployment Session\", figsize=(16, 6), fontsize=7, rot=45)"
   ]
  },
  {
   "cell_type": "code",
   "execution_count": 8,
   "id": "52322224",
   "metadata": {},
   "outputs": [
    {
     "ename": "NameError",
     "evalue": "name 'detection_dir' is not defined",
     "output_type": "error",
     "traceback": [
      "\u001b[0;31m---------------------------------------------------------------------------\u001b[0m",
      "\u001b[0;31mNameError\u001b[0m                                 Traceback (most recent call last)",
      "Input \u001b[0;32mIn [8]\u001b[0m, in \u001b[0;36m<cell line: 1>\u001b[0;34m()\u001b[0m\n\u001b[0;32m----> 1\u001b[0m \u001b[43mplot_separate\u001b[49m\u001b[43m(\u001b[49m\u001b[43mDATE\u001b[49m\u001b[43m,\u001b[49m\u001b[43m \u001b[49m\u001b[43mSD_CARD_NUM\u001b[49m\u001b[43m,\u001b[49m\u001b[43m \u001b[49m\u001b[43mAUDIO_DUR\u001b[49m\u001b[43m)\u001b[49m\n",
      "Input \u001b[0;32mIn [6]\u001b[0m, in \u001b[0;36mplot_separate\u001b[0;34m(DATE, SD_CARD_NUM, AUDIO_DUR, save)\u001b[0m\n\u001b[1;32m      4\u001b[0m recover_folder \u001b[38;5;241m=\u001b[39m \u001b[38;5;124mf\u001b[39m\u001b[38;5;124m\"\u001b[39m\u001b[38;5;124mrecover-\u001b[39m\u001b[38;5;132;01m{\u001b[39;00mDATE\u001b[38;5;132;01m}\u001b[39;00m\u001b[38;5;124m-\u001b[39m\u001b[38;5;132;01m{\u001b[39;00mSD_CARD_NUM\u001b[38;5;132;01m}\u001b[39;00m\u001b[38;5;124m-detect\u001b[39m\u001b[38;5;124m\"\u001b[39m\n\u001b[1;32m      6\u001b[0m \u001b[38;5;66;03m# Generate DataFrame to be plotted as a bar graph of LF/HF detections vs. time\u001b[39;00m\n\u001b[0;32m----> 7\u001b[0m df \u001b[38;5;241m=\u001b[39m \u001b[43mgenerate_df\u001b[49m\u001b[43m(\u001b[49m\u001b[43mDATE\u001b[49m\u001b[43m,\u001b[49m\u001b[43m \u001b[49m\u001b[43mSD_CARD_NUM\u001b[49m\u001b[43m,\u001b[49m\u001b[43m \u001b[49m\u001b[43mAUDIO_DUR\u001b[49m\u001b[43m)\u001b[49m\n\u001b[1;32m      9\u001b[0m \u001b[38;5;66;03m# To plot each day's activity separately, group by rows that have the same date\u001b[39;00m\n\u001b[1;32m     10\u001b[0m \u001b[38;5;66;03m# We need a list of unique dates from our detection files\u001b[39;00m\n\u001b[1;32m     11\u001b[0m unique_dates \u001b[38;5;241m=\u001b[39m df[\u001b[38;5;124m\"\u001b[39m\u001b[38;5;124mDate\u001b[39m\u001b[38;5;124m\"\u001b[39m]\u001b[38;5;241m.\u001b[39munique()\n",
      "Input \u001b[0;32mIn [4]\u001b[0m, in \u001b[0;36mgenerate_df\u001b[0;34m(DATE, SD_CARD_NUM, AUDIO_DUR)\u001b[0m\n\u001b[1;32m     30\u001b[0m num_lf_detections \u001b[38;5;241m=\u001b[39m []\n\u001b[1;32m     31\u001b[0m num_hf_detections \u001b[38;5;241m=\u001b[39m []\n\u001b[0;32m---> 33\u001b[0m file_names, dates, s_times, e_times, num_lf_detections, num_hf_detections \u001b[38;5;241m=\u001b[39m \u001b[43mextract_df_info\u001b[49m\u001b[43m(\u001b[49m\u001b[43msorted_files\u001b[49m\u001b[43m,\u001b[49m\u001b[43m \u001b[49m\u001b[43mfile_names\u001b[49m\u001b[43m,\u001b[49m\u001b[43m \u001b[49m\u001b[43mdates\u001b[49m\u001b[43m,\u001b[49m\u001b[43m \u001b[49m\u001b[43ms_times\u001b[49m\u001b[43m,\u001b[49m\u001b[43m \u001b[49m\n\u001b[1;32m     34\u001b[0m \u001b[43m                                                \u001b[49m\u001b[43me_times\u001b[49m\u001b[43m,\u001b[49m\u001b[43m \u001b[49m\u001b[43mnum_lf_detections\u001b[49m\u001b[43m,\u001b[49m\u001b[43m \u001b[49m\u001b[43mnum_hf_detections\u001b[49m\u001b[43m,\u001b[49m\u001b[43m \u001b[49m\u001b[43mAUDIO_DUR\u001b[49m\u001b[43m)\u001b[49m\n\u001b[1;32m     36\u001b[0m \u001b[38;5;66;03m# Create DataFrame object with all the extracted information    \u001b[39;00m\n\u001b[1;32m     37\u001b[0m df \u001b[38;5;241m=\u001b[39m pd\u001b[38;5;241m.\u001b[39mDataFrame([file_names, dates, s_times, e_times, num_lf_detections, num_hf_detections], \n\u001b[1;32m     38\u001b[0m             index\u001b[38;5;241m=\u001b[39m[\u001b[38;5;124m\"\u001b[39m\u001b[38;5;124mFile Names\u001b[39m\u001b[38;5;124m\"\u001b[39m, \u001b[38;5;124m\"\u001b[39m\u001b[38;5;124mDate\u001b[39m\u001b[38;5;124m\"\u001b[39m, \u001b[38;5;124m\"\u001b[39m\u001b[38;5;124mStart Time (UTC)\u001b[39m\u001b[38;5;124m\"\u001b[39m,\n\u001b[1;32m     39\u001b[0m                    \u001b[38;5;124m\"\u001b[39m\u001b[38;5;124mEnd Time (UTC)\u001b[39m\u001b[38;5;124m\"\u001b[39m, \u001b[38;5;124m\"\u001b[39m\u001b[38;5;124m# of LF detections\u001b[39m\u001b[38;5;124m\"\u001b[39m, \u001b[38;5;124m\"\u001b[39m\u001b[38;5;124m# of HF detections\u001b[39m\u001b[38;5;124m\"\u001b[39m])\u001b[38;5;241m.\u001b[39mT\n",
      "Input \u001b[0;32mIn [5]\u001b[0m, in \u001b[0;36mextract_df_info\u001b[0;34m(sorted_files, file_names, dates, s_times, e_times, num_lf_detections, num_hf_detections, AUDIO_DUR)\u001b[0m\n\u001b[1;32m     29\u001b[0m e_times\u001b[38;5;241m.\u001b[39mappend(e_time)\n\u001b[1;32m     31\u001b[0m \u001b[38;5;66;03m# Calling read_detection to return the table of selections as a dataframe\u001b[39;00m\n\u001b[1;32m     32\u001b[0m \u001b[38;5;66;03m# The detections appear twice: in waveform view and spectrogram view, \u001b[39;00m\n\u001b[1;32m     33\u001b[0m \u001b[38;5;66;03m# so we half the total number of detections\u001b[39;00m\n\u001b[0;32m---> 34\u001b[0m lf_file_detections \u001b[38;5;241m=\u001b[39m read_detection(\u001b[43mdetection_dir\u001b[49m, recording_name, \u001b[38;5;124m\"\u001b[39m\u001b[38;5;124mlf\u001b[39m\u001b[38;5;124m\"\u001b[39m)\n\u001b[1;32m     35\u001b[0m num_lf_detections\u001b[38;5;241m.\u001b[39mappend(lf_file_detections\u001b[38;5;241m.\u001b[39mshape[\u001b[38;5;241m0\u001b[39m]\u001b[38;5;241m/\u001b[39m\u001b[38;5;241m2\u001b[39m)\n\u001b[1;32m     36\u001b[0m hf_file_detections \u001b[38;5;241m=\u001b[39m read_detection(detection_dir, recording_name, \u001b[38;5;124m'\u001b[39m\u001b[38;5;124mhf\u001b[39m\u001b[38;5;124m'\u001b[39m)\n",
      "\u001b[0;31mNameError\u001b[0m: name 'detection_dir' is not defined"
     ]
    }
   ],
   "source": [
    "plot_separate(DATE, SD_CARD_NUM, AUDIO_DUR)"
   ]
  },
  {
   "cell_type": "code",
   "execution_count": null,
   "id": "9b8759bd",
   "metadata": {},
   "outputs": [],
   "source": []
  }
 ],
 "metadata": {
  "kernelspec": {
   "display_name": "Python 3 (ipykernel)",
   "language": "python",
   "name": "python3"
  },
  "language_info": {
   "codemirror_mode": {
    "name": "ipython",
    "version": 3
   },
   "file_extension": ".py",
   "mimetype": "text/x-python",
   "name": "python",
   "nbconvert_exporter": "python",
   "pygments_lexer": "ipython3",
   "version": "3.10.5"
  }
 },
 "nbformat": 4,
 "nbformat_minor": 5
}
