{
 "cells": [
  {
   "cell_type": "code",
   "execution_count": 1,
   "id": "ad027d4a",
   "metadata": {},
   "outputs": [],
   "source": [
    "from pathlib import Path\n",
    "\n",
    "import pandas as pd\n",
    "from pandas.errors import EmptyDataError \n",
    "\n",
    "import matplotlib.pyplot as plt\n",
    "\n",
    "from datetime import datetime"
   ]
  },
  {
   "cell_type": "code",
   "execution_count": 2,
   "id": "b3dab0d9",
   "metadata": {},
   "outputs": [],
   "source": [
    "# This method takes in paramaters:\n",
    "# 1) recover_folder: Name of the folder where the detections are stored.\n",
    "# 2) AUDIO_DUR: The AudioMoth's configuration for the length of each recording.\n",
    "\n",
    "# This method returns:\n",
    "# - A DataFrame object that has columns:\n",
    "#   - File Names, Date, Start Time, End Time, # of LF detections, # of HF detections\n",
    "#   - File Names are strings and # of LF/HF detections are integers.\n",
    "#   - Times are in UTC format and Dates are datetime.datetime objects.\n",
    "\n",
    "def generate_df(recover_folder, AUDIO_DUR=pd.DateOffset(minutes=29, seconds=55)):\n",
    "\n",
    "    # detection_dir is the recover-DATE-UNIT_NUM-detect folder where our detections are.\n",
    "    detection_dir = f\"detections/{recover_folder}\"\n",
    "\n",
    "    # Construct path object linked to the directory of files for datetime-parsing\n",
    "    file_dir = Path(detection_dir)\n",
    "    # Extract only the hf-detection files because the datetime information is repeated.\n",
    "    sorted_files = sorted(file_dir.glob('hf_*.txt'))\n",
    "\n",
    "    # Create empty DataFrame object with all the required columns    \n",
    "    df = pd.DataFrame(columns=[\"File Names\", \"Date\", \"Start Time (UTC)\",\n",
    "                       \"End Time (UTC)\", \"# of LF detections\", \"# of HF detections\"])\n",
    "    \n",
    "    # Iterate through all file paths to extract and store table information for each file\n",
    "    for i, file in enumerate(sorted_files):\n",
    "        # Extract name of each file as it is\n",
    "        file_name = file.name\n",
    "        # Extracting the datetime object from the name of each file\n",
    "        file_info = datetime.strptime(file_name, \"hf_%Y%m%d_%H%M%S.WAV.txt\")\n",
    "\n",
    "        # Extract recording name, date, start time, and end time for each file\n",
    "        recording_name = file_info.strftime(\"%Y%m%d_%H%M%S.WAV\")\n",
    "        date = file_info.date()\n",
    "        s_time = file_info.time()\n",
    "        e_time = (file_info + AUDIO_DUR).time()\n",
    "\n",
    "        # Calling read_detection to return the table of selections as a dataframe\n",
    "        # The detections appear twice: in waveform view and spectrogram view, \n",
    "        # so we half the total number of detections\n",
    "        lf_file_detections = read_detection(detection_dir, recording_name, \"lf\")\n",
    "        num_lf_detections = lf_file_detections.shape[0]/2\n",
    "        hf_file_detections = read_detection(detection_dir, recording_name, 'hf')\n",
    "        num_hf_detections = hf_file_detections.shape[0]/2\n",
    "        \n",
    "        # Add new row with the extracted information\n",
    "        df.loc[len(df.index)] = [recording_name, date, s_time, e_time, num_lf_detections, num_hf_detections]\n",
    "    \n",
    "    return df"
   ]
  },
  {
   "cell_type": "code",
   "execution_count": 3,
   "id": "93a72428",
   "metadata": {},
   "outputs": [],
   "source": [
    "# Given parameters:\n",
    "# 1) detection_dir is the recover-DATE-UNIT_NUM-detect folder\n",
    "# 2) recording_name is the name of our recording: DATE_TIME.WAV\n",
    "# 4) det_type can either be 'lf' or 'hf'\n",
    "\n",
    "# Output:\n",
    "# The table of detections following the format of RavenPro\n",
    "\n",
    "def read_detection(detection_dir, recording_name, det_type):\n",
    "    \n",
    "    file_name = f\"{det_type}_{recording_name}.txt\"\n",
    "    file_path = f\"{detection_dir}/{file_name}\"\n",
    "    \n",
    "    if (Path(file_path).is_file()):\n",
    "        try:\n",
    "            df_detection = pd.read_csv(file_path, sep='\\t')\n",
    "        except EmptyDataError:\n",
    "            print(f\"{file_path} is empty\")\n",
    "            \n",
    "    return df_detection"
   ]
  },
  {
   "cell_type": "code",
   "execution_count": 4,
   "id": "838d3832",
   "metadata": {},
   "outputs": [],
   "source": [
    "def plot_separate(recover_folder, save=True):\n",
    "    \n",
    "    # Generate DataFrame to be plotted as a bar graph of LF/HF detections vs. time\n",
    "    df = generate_df(recover_folder)\n",
    "    \n",
    "    # To plot each day's activity separately, group by rows that have the same date\n",
    "    # We need a list of unique dates from our detection files\n",
    "    unique_dates = df[\"Date\"].unique()\n",
    "\n",
    "    for date in unique_dates:\n",
    "        day_df = df.loc[df['Date'] == date]\n",
    "        fig = day_df.plot.bar(x=\"Start Time (UTC)\", figsize=(12, 4), fontsize=12, rot=45)\n",
    "        fig.set_title(date, fontsize=14)\n",
    "        \n",
    "        if save:\n",
    "            save_dir = Path(recover_folder)\n",
    "            save_dir.mkdir(parents=True, exist_ok=True)\n",
    "            save_path = Path(f\"{recover_folder}/{date}.png\")\n",
    "            fig.get_figure().savefig(save_path, facecolor='w')"
   ]
  },
  {
   "cell_type": "code",
   "execution_count": 5,
   "id": "73783fdc",
   "metadata": {
    "scrolled": false
   },
   "outputs": [],
   "source": [
    "def plot_total(recover_folder):\n",
    "    \n",
    "    # Generate DataFrame to be plotted as a bar graph of LF/HF detections vs. time\n",
    "    df = generate_df(recover_folder)\n",
    "    \n",
    "    fig = df.plot.bar(x=\"Start Time (UTC)\", figsize=(12, 4), fontsize=7, rot=45)\n",
    "    fig.set_title(\"Total Deployment Session\", fontsize=14)"
   ]
  },
  {
   "cell_type": "code",
   "execution_count": 6,
   "id": "7923be15",
   "metadata": {
    "scrolled": false
   },
   "outputs": [],
   "source": [
    "# These are constants that we absolutely need to know before running any scripts\n",
    "\n",
    "# Constant DATE is the date of our recovered data that we are extracting detections from\n",
    "DATE = \"20220728\"\n",
    "# Constant SD_CARD_NUM is the SD CARD # that had been deployed for that session\n",
    "SD_CARD_NUM = \"008\""
   ]
  },
  {
   "cell_type": "code",
   "execution_count": 7,
   "id": "71fce4e4",
   "metadata": {},
   "outputs": [
    {
     "data": {
      "text/html": [
       "<div>\n",
       "<style scoped>\n",
       "    .dataframe tbody tr th:only-of-type {\n",
       "        vertical-align: middle;\n",
       "    }\n",
       "\n",
       "    .dataframe tbody tr th {\n",
       "        vertical-align: top;\n",
       "    }\n",
       "\n",
       "    .dataframe thead th {\n",
       "        text-align: right;\n",
       "    }\n",
       "</style>\n",
       "<table border=\"1\" class=\"dataframe\">\n",
       "  <thead>\n",
       "    <tr style=\"text-align: right;\">\n",
       "      <th></th>\n",
       "      <th>File Names</th>\n",
       "      <th>Date</th>\n",
       "      <th>Start Time (UTC)</th>\n",
       "      <th>End Time (UTC)</th>\n",
       "      <th># of LF detections</th>\n",
       "      <th># of HF detections</th>\n",
       "    </tr>\n",
       "  </thead>\n",
       "  <tbody>\n",
       "    <tr>\n",
       "      <th>0</th>\n",
       "      <td>20220726_003000.WAV</td>\n",
       "      <td>2022-07-26</td>\n",
       "      <td>00:30:00</td>\n",
       "      <td>00:59:55</td>\n",
       "      <td>42.0</td>\n",
       "      <td>0.0</td>\n",
       "    </tr>\n",
       "    <tr>\n",
       "      <th>1</th>\n",
       "      <td>20220726_010000.WAV</td>\n",
       "      <td>2022-07-26</td>\n",
       "      <td>01:00:00</td>\n",
       "      <td>01:29:55</td>\n",
       "      <td>18.0</td>\n",
       "      <td>0.0</td>\n",
       "    </tr>\n",
       "    <tr>\n",
       "      <th>2</th>\n",
       "      <td>20220726_013000.WAV</td>\n",
       "      <td>2022-07-26</td>\n",
       "      <td>01:30:00</td>\n",
       "      <td>01:59:55</td>\n",
       "      <td>9.0</td>\n",
       "      <td>0.0</td>\n",
       "    </tr>\n",
       "    <tr>\n",
       "      <th>3</th>\n",
       "      <td>20220726_020000.WAV</td>\n",
       "      <td>2022-07-26</td>\n",
       "      <td>02:00:00</td>\n",
       "      <td>02:29:55</td>\n",
       "      <td>14.0</td>\n",
       "      <td>0.0</td>\n",
       "    </tr>\n",
       "    <tr>\n",
       "      <th>4</th>\n",
       "      <td>20220726_023000.WAV</td>\n",
       "      <td>2022-07-26</td>\n",
       "      <td>02:30:00</td>\n",
       "      <td>02:59:55</td>\n",
       "      <td>3.0</td>\n",
       "      <td>0.0</td>\n",
       "    </tr>\n",
       "    <tr>\n",
       "      <th>...</th>\n",
       "      <td>...</td>\n",
       "      <td>...</td>\n",
       "      <td>...</td>\n",
       "      <td>...</td>\n",
       "      <td>...</td>\n",
       "      <td>...</td>\n",
       "    </tr>\n",
       "    <tr>\n",
       "      <th>90</th>\n",
       "      <td>20220727_213000.WAV</td>\n",
       "      <td>2022-07-27</td>\n",
       "      <td>21:30:00</td>\n",
       "      <td>21:59:55</td>\n",
       "      <td>4.0</td>\n",
       "      <td>0.0</td>\n",
       "    </tr>\n",
       "    <tr>\n",
       "      <th>91</th>\n",
       "      <td>20220727_220000.WAV</td>\n",
       "      <td>2022-07-27</td>\n",
       "      <td>22:00:00</td>\n",
       "      <td>22:29:55</td>\n",
       "      <td>8.0</td>\n",
       "      <td>0.0</td>\n",
       "    </tr>\n",
       "    <tr>\n",
       "      <th>92</th>\n",
       "      <td>20220727_223000.WAV</td>\n",
       "      <td>2022-07-27</td>\n",
       "      <td>22:30:00</td>\n",
       "      <td>22:59:55</td>\n",
       "      <td>6.0</td>\n",
       "      <td>0.0</td>\n",
       "    </tr>\n",
       "    <tr>\n",
       "      <th>93</th>\n",
       "      <td>20220727_230000.WAV</td>\n",
       "      <td>2022-07-27</td>\n",
       "      <td>23:00:00</td>\n",
       "      <td>23:29:55</td>\n",
       "      <td>12.0</td>\n",
       "      <td>0.0</td>\n",
       "    </tr>\n",
       "    <tr>\n",
       "      <th>94</th>\n",
       "      <td>20220727_233000.WAV</td>\n",
       "      <td>2022-07-27</td>\n",
       "      <td>23:30:00</td>\n",
       "      <td>23:59:55</td>\n",
       "      <td>11.0</td>\n",
       "      <td>0.0</td>\n",
       "    </tr>\n",
       "  </tbody>\n",
       "</table>\n",
       "<p>95 rows × 6 columns</p>\n",
       "</div>"
      ],
      "text/plain": [
       "             File Names        Date Start Time (UTC) End Time (UTC)  \\\n",
       "0   20220726_003000.WAV  2022-07-26         00:30:00       00:59:55   \n",
       "1   20220726_010000.WAV  2022-07-26         01:00:00       01:29:55   \n",
       "2   20220726_013000.WAV  2022-07-26         01:30:00       01:59:55   \n",
       "3   20220726_020000.WAV  2022-07-26         02:00:00       02:29:55   \n",
       "4   20220726_023000.WAV  2022-07-26         02:30:00       02:59:55   \n",
       "..                  ...         ...              ...            ...   \n",
       "90  20220727_213000.WAV  2022-07-27         21:30:00       21:59:55   \n",
       "91  20220727_220000.WAV  2022-07-27         22:00:00       22:29:55   \n",
       "92  20220727_223000.WAV  2022-07-27         22:30:00       22:59:55   \n",
       "93  20220727_230000.WAV  2022-07-27         23:00:00       23:29:55   \n",
       "94  20220727_233000.WAV  2022-07-27         23:30:00       23:59:55   \n",
       "\n",
       "    # of LF detections  # of HF detections  \n",
       "0                 42.0                 0.0  \n",
       "1                 18.0                 0.0  \n",
       "2                  9.0                 0.0  \n",
       "3                 14.0                 0.0  \n",
       "4                  3.0                 0.0  \n",
       "..                 ...                 ...  \n",
       "90                 4.0                 0.0  \n",
       "91                 8.0                 0.0  \n",
       "92                 6.0                 0.0  \n",
       "93                12.0                 0.0  \n",
       "94                11.0                 0.0  \n",
       "\n",
       "[95 rows x 6 columns]"
      ]
     },
     "execution_count": 7,
     "metadata": {},
     "output_type": "execute_result"
    }
   ],
   "source": [
    "generate_df(f\"recover-{DATE}-{SD_CARD_NUM}-detect\")"
   ]
  },
  {
   "cell_type": "code",
   "execution_count": 8,
   "id": "52322224",
   "metadata": {},
   "outputs": [
    {
     "data": {
      "image/png": "[encoded data removed]",
      "text/plain": [
       "<Figure size 864x288 with 1 Axes>"
      ]
     },
     "metadata": {
      "needs_background": "light"
     },
     "output_type": "display_data"
    },
    {
     "data": {
      "image/png": "[encoded data removed]",
      "text/plain": [
       "<Figure size 864x288 with 1 Axes>"
      ]
     },
     "metadata": {
      "needs_background": "light"
     },
     "output_type": "display_data"
    }
   ],
   "source": [
    "plot_separate(f\"recover-{DATE}-{SD_CARD_NUM}-detect\")"
   ]
  },
  {
   "cell_type": "code",
   "execution_count": 9,
   "id": "60144980",
   "metadata": {},
   "outputs": [
    {
     "data": {
      "image/png": "[encoded data removed]",
      "text/plain": [
       "<Figure size 864x288 with 1 Axes>"
      ]
     },
     "metadata": {
      "needs_background": "light"
     },
     "output_type": "display_data"
    }
   ],
   "source": [
    "plot_total(f\"recover-{DATE}-{SD_CARD_NUM}-detect\")"
   ]
  },
  {
   "cell_type": "code",
   "execution_count": null,
   "id": "1e2fe515",
   "metadata": {},
   "outputs": [],
   "source": []
  }
 ],
 "metadata": {
  "kernelspec": {
   "display_name": "Python 3 (ipykernel)",
   "language": "python",
   "name": "python3"
  },
  "language_info": {
   "codemirror_mode": {
    "name": "ipython",
    "version": 3
   },
   "file_extension": ".py",
   "mimetype": "text/x-python",
   "name": "python",
   "nbconvert_exporter": "python",
   "pygments_lexer": "ipython3",
   "version": "3.10.5"
  }
 },
 "nbformat": 4,
 "nbformat_minor": 5
}
